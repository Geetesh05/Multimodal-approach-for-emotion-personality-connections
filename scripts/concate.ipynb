{
 "cells": [
  {
   "cell_type": "code",
   "execution_count": 1,
   "metadata": {},
   "outputs": [
    {
     "name": "stdout",
     "output_type": "stream",
     "text": [
      "This should list a GPU:  /device:GPU:0\n"
     ]
    }
   ],
   "source": [
    "import keras\n",
    "from keras.layers import Conv2D, MaxPooling2D, Flatten, Dense, LSTM, Dropout, Input, BatchNormalization, concatenate\n",
    "from keras.models import Model, Sequential\n",
    "from sklearn.preprocessing import LabelEncoder\n",
    "from sklearn.metrics import classification_report, confusion_matrix\n",
    "from keras.optimizers import Adam,SGD\n",
    "from sklearn.model_selection import train_test_split\n",
    "import pandas as pd\n",
    "import numpy as np\n",
    "import matplotlib.pyplot as plt\n",
    "import os\n",
    "import seaborn as sns\n",
    "import cv2\n",
    "import tensorflow as tf\n",
    "import imgaug as ia\n",
    "import imgaug.augmenters as iaa\n",
    "from albumentations import (\n",
    "    RandomRotate90,Flip\n",
    ")\n",
    "import scipy.io\n",
    "import difflib\n",
    "from scipy import spatial\n",
    "from sklearn.metrics import accuracy_score\n",
    "from sklearn.metrics import precision_score\n",
    "from sklearn.metrics import recall_score\n",
    "from sklearn.metrics import f1_score\n",
    "from sklearn.metrics import roc_auc_score\n",
    "from keras.models import load_model\n",
    "from sklearn.metrics import confusion_matrix\n",
    "from sklearn.metrics import cohen_kappa_score\n",
    "from sklearn.model_selection import KFold\n",
    "from keras.preprocessing.sequence import TimeseriesGenerator\n",
    "from scipy import spatial\n",
    "\n",
    "gpus = tf.config.experimental.list_physical_devices('GPU')\n",
    "print('This should list a GPU: ',tf.test.gpu_device_name())\n",
    "os.chdir('/home/xx652230/Downloads/')"
   ]
  },
  {
   "cell_type": "code",
   "execution_count": 2,
   "metadata": {},
   "outputs": [],
   "source": [
    "#final EEG model\n",
    "num_features=64\n",
    "modele = Sequential([\n",
    "    Conv2D(filters=64, kernel_size=5, activation='relu', input_shape=(120, 120, 1)),\n",
    "    Dropout(0.2),\n",
    "    BatchNormalization(),\n",
    "    MaxPooling2D(pool_size=2),\n",
    "    Conv2D(filters=32, kernel_size=3, activation='relu'),\n",
    "    BatchNormalization(),\n",
    "    Dropout(0.2),\n",
    "    MaxPooling2D(pool_size=2),\n",
    "    Conv2D(filters=16, kernel_size=5, activation='relu'),\n",
    "    BatchNormalization(),\n",
    "    Dropout(0.2),\n",
    "    MaxPooling2D(pool_size=2),\n",
    "    Flatten(),\n",
    "    Dense(100, activation='relu'),\n",
    "    Dropout(0.2),\n",
    "    Dense(5, activation='softmax')\n",
    "])\n",
    "modele.load_weights(\"/home/xx652230/deap.hdf5\")\n",
    "for i in range(len(modele.layers)-3):\n",
    "    modele.layers[i].trainable=False\n",
    "modele.compile(optimizer='adam', loss='categorical_crossentropy' , metrics=['accuracy'])"
   ]
  },
  {
   "cell_type": "code",
   "execution_count": 3,
   "metadata": {},
   "outputs": [],
   "source": [
    "#training eeg for emotion rcognition\n",
    "a=Model(inputs=modele.inputs,outputs=modele.layers[-4].output)\n",
    "f1=Sequential()\n",
    "f1.add(a)\n",
    "f1.add(Dense(256, activation=\"relu\"))\n",
    "f1.add(Dropout(0.2))\n",
    "f1.add(Dense(5,activation=\"softmax\"))\n",
    "for i in range(len(f1.layers)-4):\n",
    "    f1.layers[i].trainable=False\n",
    "#f1.load_weights(\"./results/modele_p30.hdf5\") \n",
    "f1.compile(optimizer=\"adam\", loss='categorical_crossentropy' , metrics=['accuracy'])"
   ]
  },
  {
   "cell_type": "code",
   "execution_count": 11,
   "metadata": {},
   "outputs": [],
   "source": [
    "#final face model\n",
    "num_features = 64\n",
    "width, height = 48, 48\n",
    "modelf = Sequential([\n",
    "        Conv2D(num_features, kernel_size=(3, 3), activation='relu', input_shape=(width, height, 1)),  # 1\n",
    "        Conv2D(num_features, kernel_size=(3, 3), activation='relu', input_shape=(width, height, 1)),  # 1\n",
    "        BatchNormalization(),\n",
    "        MaxPooling2D(pool_size=(2, 2), strides=(2, 2)),  # 2\n",
    "        Dropout(0.5),\n",
    "\n",
    "        Conv2D(2 * num_features, kernel_size=(3, 3), activation='relu', padding='same'),  # 3\n",
    "        BatchNormalization(),\n",
    "        Conv2D(2 * num_features, kernel_size=(3, 3), activation='relu', padding='same'),  # 4\n",
    "        BatchNormalization(),\n",
    "        MaxPooling2D(pool_size=(2, 2), strides=(2, 2)),  # 5\n",
    "        Dropout(0.5),\n",
    "\n",
    "        Conv2D(2 * 2 * num_features, kernel_size=(3, 3), activation='relu', padding='same'),  # 3\n",
    "        BatchNormalization(),\n",
    "        Conv2D(2 * 2 * num_features, kernel_size=(3, 3), activation='relu', padding='same'),  # 4\n",
    "        BatchNormalization(),\n",
    "        MaxPooling2D(pool_size=(2, 2), strides=(2, 2)),  # 5\n",
    "        Dropout(0.5),\n",
    "\n",
    "        Conv2D(2 * 2 * 2 * num_features, kernel_size=(3, 3), activation='relu', padding='same'),  # 6\n",
    "        BatchNormalization(),\n",
    "        Conv2D(2 * 2 * 2 * num_features, kernel_size=(3, 3), activation='relu', padding='same'),  # 7\n",
    "        BatchNormalization(),\n",
    "        MaxPooling2D(pool_size=(2, 2), strides=(2, 2)),  # 8\n",
    "        Dropout(0.5),\n",
    "\n",
    "        Flatten(),\n",
    "\n",
    "        Dense(2 * 2 * 2 * num_features, activation='relu'),  # 9\n",
    "        Dropout(0.4),\n",
    "        Dense(2 * 2 * num_features, activation='relu'),  # 10\n",
    "        Dropout(0.4),\n",
    "        Dense(2 * num_features, activation='relu'),  # 10\n",
    "        Dropout(0.5),\n",
    "\n",
    "        Dense(7, activation='softmax')\n",
    "\n",
    "])\n",
    "modelf.load_weights(\"./model/face/final_model_face.hdf5\") \n",
    "modelf.compile(optimizer='adam', loss='categorical_crossentropy' , metrics=['accuracy'])\n"
   ]
  },
  {
   "cell_type": "code",
   "execution_count": 18,
   "metadata": {},
   "outputs": [],
   "source": [
    "#training face model emotional recognition\n",
    "b=Model(inputs=modelf.inputs,outputs=modelf.layers[-8].output)\n",
    "f2=Sequential()\n",
    "f2.add(b)\n",
    "f2.add(Dense(256, activation=\"relu\"))\n",
    "f2.add(Dense(5,activation=\"softmax\"))\n",
    "for i in range(len(f2.layers)-2):\n",
    "    f2.layers[i].trainable=False\n",
    "f2.load_weights(\"./results/modelf_p30.hdf5\") \n",
    "f2.compile(optimizer=\"adam\", loss='categorical_crossentropy' , metrics=['accuracy'])"
   ]
  },
  {
   "cell_type": "code",
   "execution_count": 30,
   "metadata": {},
   "outputs": [],
   "source": [
    "#CNN-concatenated model\n",
    "a1=Model(inputs=modele.inputs,outputs=modele.layers[-4].output)\n",
    "b1=Model(inputs=modelf.inputs,outputs=modelf.layers[-8].output)\n",
    "combined = concatenate([a1.output, b1.output])\n",
    "z1 = Dense(256, activation=\"relu\")(combined)\n",
    "z1 = Dense(5, activation=\"softmax\")(z1)\n",
    "model2 = Model(inputs=[a1.input, b1.input], outputs=z1)\n",
    "for i in range(len(model2.layers)-3):\n",
    "    model2.layers[i].trainable=False\n",
    "model2.load_weights(\"./results/cnnconcat_p30.hdf5\")     \n",
    "model2.compile(loss='categorical_crossentropy', optimizer='adam',metrics=['accuracy'])"
   ]
  },
  {
   "cell_type": "code",
   "execution_count": null,
   "metadata": {},
   "outputs": [],
   "source": [
    "# cnn-lstm concatenated model\n",
    "from keras.layers import TimeDistributed,Reshape\n",
    "a=Model(inputs=modele.inputs,outputs=modele.layers[-4].output)\n",
    "video=Input(shape=(None,120,120,1))\n",
    "video1=Input(shape=(None,48,48,1))\n",
    "#b=Model(inputs=model_dude.inputs,outputs=model_dude.layers[-8].output)\n",
    "mod=Sequential()\n",
    "mod.add(video)\n",
    "mod.add(TimeDistributed(a))\n",
    "#mod.add(TimeDistributed(Flatten()))\n",
    "mod.add(LSTM(128,return_sequences=True))\n",
    "mod.add(TimeDistributed(Dense(128, activation=\"relu\")))\n",
    "\n",
    "b=Model(inputs=modelf.inputs,outputs=modelf.layers[-8].output)\n",
    "\n",
    "#b=Model(inputs=model_dude.inputs,outputs=model_dude.layers[-8].output)\n",
    "mod1=Sequential()\n",
    "mod1.add(video1)\n",
    "mod1.add(TimeDistributed(b))\n",
    "#mod1.add(TimeDistributed(Flatten()))\n",
    "mod1.add(LSTM(128,return_sequences=True))\n",
    "mod1.add(TimeDistributed(Dense(128, activation=\"relu\")))\n",
    "cont=concatenate([mod.output,mod1.output])\n",
    "z=TimeDistributed(Dense(128, activation=\"relu\"))(cont)\n",
    "z =TimeDistributed(Dense(5,activation=\"softmax\"))(z)\n",
    "model_dope=Model(inputs=[mod.input,mod1.input],outputs=z)\n",
    "for i in range(len(model_dope.layers)-8):\n",
    "    model_dope.layers[i].trainable=False\n",
    "model_dope.load_weights(\"./results/cnnlstmconcat_p30.hdf5\")\n",
    "model_dope.compile(optimizer=\"adam\", loss='categorical_crossentropy' , metrics=['accuracy'])\n"
   ]
  },
  {
   "cell_type": "code",
   "execution_count": 4,
   "metadata": {},
   "outputs": [],
   "source": [
    "def read_csv(path,d1,d2):\n",
    "    file_read=pd.read_csv(path)\n",
    "    construct=[]  \n",
    "    for i in range(len(file_read)):\n",
    "        construct.append(file_read.loc[i,:])\n",
    "    if d2!=0:    \n",
    "        file1=np.reshape(np.array(construct)[39:],(len(construct)-39,d1,d2,1))  \n",
    "        construct.append(file1)\n",
    "        return file1\n",
    "    else:\n",
    "        file1=np.reshape(np.array(construct)[39:],(len(construct)-39,d1))\n",
    "        return file1\n",
    "       "
   ]
  },
  {
   "cell_type": "markdown",
   "metadata": {},
   "source": [
    "# OPERATION 1: TRAINING WITHOUT CROSS VALIDATION"
   ]
  },
  {
   "cell_type": "code",
   "execution_count": 23,
   "metadata": {},
   "outputs": [],
   "source": [
    "#loading training set(group of 10 participants)\n",
    "imps=[\"eeg\",\"face\",\"quad\"]\n",
    "eeg=[]\n",
    "face=[]\n",
    "quad_out=[]\n",
    "score_out=[]\n",
    "model_out=[]\n",
    "for i in imps:\n",
    "    for j in range(1,4):\n",
    "       if j!=2: \n",
    "        if i==\"eeg\":\n",
    "            eeg.append(read_csv(\"./SortedSamples/first10/\"+str(i)+str(j)+\"0.csv\",120,120))\n",
    "        elif i==\"face\":   \n",
    "            face.append(read_csv(\"./SortedSamples/first10/\"+str(i)+str(j)+\"0.csv\",48,48))\n",
    "        elif i==\"quad\":\n",
    "            quad_out.append(read_csv(\"./SortedSamples/first10/\"+str(i)+str(j)+\"0.csv\",5,0))\n",
    "      \n"
   ]
  },
  {
   "cell_type": "code",
   "execution_count": 24,
   "metadata": {},
   "outputs": [],
   "source": [
    "#loading testing set(group of 10 participants)\n",
    "imps=[\"eeg\",\"face\",\"quad\"]\n",
    "eeg1=[]\n",
    "face1=[]\n",
    "quad_out1=[]\n",
    "score_out1=[]\n",
    "model_out1=[]\n",
    "for i in imps:\n",
    "    for j in range(2,3):\n",
    "       #if j!=2: \n",
    "        if i==\"eeg\":\n",
    "            eeg1.append(read_csv(\"./redo/\"+str(i)+str(j)+\"0.csv\",120,120))\n",
    "        elif i==\"face\":   \n",
    "            face1.append(read_csv(\"./redo/\"+str(i)+str(j)+\"0.csv\",48,48))\n",
    "        elif i==\"quad\":\n",
    "            quad_out1.append(read_csv(\"./redo/\"+str(i)+str(j)+\"0.csv\",5,0))\n",
    "       \n"
   ]
  },
  {
   "cell_type": "code",
   "execution_count": 25,
   "metadata": {},
   "outputs": [],
   "source": [
    "x1_train=np.concatenate([eeg[i] for i in range(len(eeg))])\n",
    "x2_train=np.concatenate([face[i] for i in range(len(eeg))])\n",
    "y_train=np.concatenate([quad_out[i] for i in range(len(eeg))])\n",
    "x1_test=np.concatenate([eeg1[i] for i in range(len(eeg1))])\n",
    "x2_test=np.concatenate([face1[i] for i in range(len(eeg1))])\n",
    "y_test=np.concatenate([quad_out1[i] for i in range(len(eeg1))])"
   ]
  },
  {
   "cell_type": "code",
   "execution_count": 37,
   "metadata": {},
   "outputs": [
    {
     "data": {
      "text/plain": [
       "[]"
      ]
     },
     "execution_count": 37,
     "metadata": {},
     "output_type": "execute_result"
    },
    {
     "data": {
      "image/png": "[encoded data removed]",
      "text/plain": [
       "<Figure size 360x360 with 1 Axes>"
      ]
     },
     "metadata": {
      "needs_background": "light"
     },
     "output_type": "display_data"
    }
   ],
   "source": [
    "#Model learning\n",
    "#specify model name from eeg or face \n",
    "#f1.fit(np.array(x1_train),np.array(y_train),validation_data=(np.array(x1_test),np.array(y_test)),batch_size=256,epochs=50)\n",
    "emotion_list = [\"Q1\",\"Q2\",\"Q3\",\"Q4\",\"Neutral\"]\n",
    "c1=f2.predict(np.array(x2_test))\n",
    "c2=np.argmax(c1,axis=1)\n",
    "y_pred_classes=keras.utils.to_categorical(np.array(c2))\n",
    "conf_matrix = confusion_matrix(np.argmax(np.array(y_test), axis=1), np.argmax(np.array(y_pred_classes),axis=1), normalize = 'true')\n",
    "df_conf = pd.DataFrame(conf_matrix, index = [i for i in emotion_list],\n",
    "                  columns = [i for i in emotion_list])\n",
    "\n",
    "plt.figure(figsize = (5,5))\n",
    "sns.heatmap(df_conf, annot=True, cmap = 'Blues', fmt = '.1', cbar = False)\n",
    "plt.plot()"
   ]
  },
  {
   "cell_type": "code",
   "execution_count": 36,
   "metadata": {},
   "outputs": [
    {
     "data": {
      "text/plain": [
       "[]"
      ]
     },
     "execution_count": 36,
     "metadata": {},
     "output_type": "execute_result"
    },
    {
     "data": {
      "image/png": "[encoded data removed]",
      "text/plain": [
       "<Figure size 360x360 with 1 Axes>"
      ]
     },
     "metadata": {
      "needs_background": "light"
     },
     "output_type": "display_data"
    }
   ],
   "source": [
    "#CNN concatenated Model learning\n",
    "#model2.fit([np.array(x1_train),np.array(x2_train)],np.array(y_train),validation_data=([np.array(x1_test),np.array(x2_test)],np.array(y_test)),batch_size=256,epochs=50)\n",
    "emotion_list = [\"Q1\",\"Q2\",\"Q3\",\"Q4\",\"Neutral\"]\n",
    "c1=model2.predict([np.array(x1_test),np.array(x2_test)])\n",
    "c2=np.argmax(c1,axis=1)\n",
    "y_pred_classes=keras.utils.to_categorical(np.array(c2))\n",
    "conf_matrix = confusion_matrix(np.argmax(np.array(y_test), axis=1), np.argmax(np.array(y_pred_classes),axis=1), normalize = 'true')\n",
    "df_conf = pd.DataFrame(conf_matrix, index = [i for i in emotion_list],\n",
    "                  columns = [i for i in emotion_list])\n",
    "plt.figure(figsize = (5,5))\n",
    "sns.heatmap(df_conf, annot=True, cmap = 'Blues', fmt = '.1', cbar = False)\n",
    "plt.plot()"
   ]
  },
  {
   "cell_type": "code",
   "execution_count": 7,
   "metadata": {},
   "outputs": [],
   "source": [
    "#for video analysis\n",
    "def _load_data(data, steps = 40):  \n",
    "    docX, docY = [], []\n",
    "    for i in range(0, int(data.shape[0]/steps-1)):\n",
    "        docX.append(data[i*steps:(i+1)*steps,:])\n",
    "    return np.array(docX)"
   ]
  },
  {
   "cell_type": "code",
   "execution_count": 8,
   "metadata": {},
   "outputs": [],
   "source": [
    "xx1=_load_data(np.array(x1_train))\n",
    "xx2=_load_data(np.array(x2_train))\n",
    "yy1=_load_data(np.array(y_train))\n",
    "xx11=_load_data(np.array(x1_test))\n",
    "xx22=_load_data(np.array(x2_test))\n",
    "yy11=_load_data(np.array(y_test))"
   ]
  },
  {
   "cell_type": "code",
   "execution_count": null,
   "metadata": {},
   "outputs": [],
   "source": [
    "model_dope.fit([np.array(xx1),np.array(xx2)],np.array(yy1),validation_data=([np.array(xx11),np.array(xx22)],np.array(yy11)),batch_size=256,epochs=50)\n",
    "emotion_list = [\"Q1\",\"Q2\",\"Q3\",\"Q4\",\"Neutral\"]\n",
    "ytest1=[]\n",
    "ytest2=[]\n",
    "c1=model_dope.predict([np.array(xx11),np.array(xx22)])\n",
    "for i in range(len(c1)):\n",
    "    for j in range(len(c1[i])):\n",
    "        ytest1.append(yy11[i][j])\n",
    "        ytest2.append(c1[i][j])\n",
    "\n",
    "y_pred_classes=np.argmax(ytest2,axis=1)\n",
    "y_pred_classes = keras.utils.to_categorical(y_pred_classes)\n",
    "conf_matrix = confusion_matrix(np.argmax(np.array(ytest1), axis=1), np.argmax(np.array(y_pred_classes),axis=1), normalize = 'true')\n",
    "df_conf = pd.DataFrame(conf_matrix, index = [i for i in emotion_list],\n",
    "                  columns = [i for i in emotion_list])\n",
    "plt.figure(figsize = (5,5))\n",
    "sns.heatmap(df_conf, annot=True, cmap = 'Blues', fmt = '.1', cbar = False)\n",
    "#plt.savefig(\"./redo/lstm.jpg\")\n",
    "plt.plot() "
   ]
  },
  {
   "cell_type": "markdown",
   "metadata": {},
   "source": [
    "# OPERATION 2: TRAINING WITH CROSS VALIDATION"
   ]
  },
  {
   "cell_type": "code",
   "execution_count": null,
   "metadata": {},
   "outputs": [],
   "source": [
    "#loading each participant for training set\n",
    "imps=[\"eeg\",\"face\",\"quad\"]\n",
    "eeg=[]\n",
    "face=[]\n",
    "quad_out=[]\n",
    "score_out=[]\n",
    "model_out=[]\n",
    "\n",
    "for j in range(1,31):\n",
    "    notin=[8,12,28]\n",
    "    if j not in notin:\n",
    "      if j<10: \n",
    "        for i in imps:\n",
    "            if i==\"eeg\":\n",
    "                eeg.append(read_csv(\"./SortedSamples/participants/\"+str(i)+\"P0\"+str(j)+\".csv\",120,120))     \n",
    "            elif i==\"face\":   \n",
    "                face.append(read_csv(\"./SortedSamples/participants/\"+str(i)+\"P0\"+str(j)+\".csv\",48,48))\n",
    "            elif i==\"quad\":\n",
    "                quad_out.append(read_csv(\"./SortedSamples/participants/\"+str(i)+\"P0\"+str(j)+\".csv\",5,0))\n",
    "          \n",
    "      elif  j>9: \n",
    "        for i in imps:\n",
    "            if i==\"eeg\":\n",
    "                eeg.append(read_csv(\"./SortedSamples/participants/\"+str(i)+\"P\"+str(j)+\".csv\",120,120))      \n",
    "            elif i==\"face\":   \n",
    "                face.append(read_csv(\"./SortedSamples/participants/\"+str(i)+\"P\"+str(j)+\".csv\",48,48))\n",
    "            elif i==\"quad\":\n",
    "                quad_out.append(read_csv(\"./SortedSamples/participants/\"+str(i)+\"P\"+str(j)+\".csv\",5,0))\n",
    "           \n"
   ]
  },
  {
   "cell_type": "code",
   "execution_count": 5,
   "metadata": {},
   "outputs": [],
   "source": [
    "#loading each participant for testing set\n",
    "imps=[\"eeg\",\"face\",\"quad\"]\n",
    "eeg1=[]\n",
    "face1=[]\n",
    "quad_out1=[]\n",
    "score_out1=[]\n",
    "model_out1=[]\n",
    "for j in range(1,31):\n",
    "    notin=[8,12,28]\n",
    "    if j not in notin :\n",
    "      if j<10: \n",
    "        for i in imps:\n",
    "            if i==\"eeg\":\n",
    "                eeg1.append(read_csv(\"./t/\"+str(i)+\"P0\"+str(j)+\".csv\",120,120))     \n",
    "            elif i==\"face\":   \n",
    "                face1.append(read_csv(\"./t/\"+str(i)+\"P0\"+str(j)+\".csv\",48,48))\n",
    "            elif i==\"quad\":\n",
    "                quad_out1.append(read_csv(\"./t/\"+str(i)+\"P0\"+str(j)+\".csv\",5,0))\n",
    "         \n",
    "      elif  j>9: \n",
    "        for i in imps:\n",
    "            if i==\"eeg\":\n",
    "                eeg1.append(read_csv(\"./t/\"+str(i)+\"P\"+str(j)+\".csv\",120,120))              \n",
    "            elif i==\"face\":   \n",
    "                face1.append(read_csv(\"./t/\"+str(i)+\"P\"+str(j)+\".csv\",48,48))\n",
    "            elif i==\"quad\":\n",
    "                quad_out1.append(read_csv(\"./t/\"+str(i)+\"P\"+str(j)+\".csv\",5,0))\n",
    "         \n"
   ]
  },
  {
   "cell_type": "code",
   "execution_count": null,
   "metadata": {},
   "outputs": [],
   "source": [
    "from sklearn.model_selection import KFold\n",
    "kf = KFold(n_splits=5, random_state=None, shuffle=True)\n",
    "acc_per_fold=[]\n",
    "loss_per_fold=[]\n",
    "for train_index,test_index in kf.split(np.array(eeg)):\n",
    "    x1=np.concatenate([eeg[i] for i in train_index])\n",
    "    x2=np.concatenate([face[i] for i in train_index])\n",
    "    y1=np.concatenate([quad_out[i] for i in train_index])\n",
    "    x4=np.concatenate([eeg1[i] for i in test_index])\n",
    "    x5=np.concatenate([face1[i] for i in test_index])\n",
    "    y6=np.concatenate([quad_out1[i] for i in test_index])\n",
    "    history = model2.fit([np.array(x1),np.array(x2)], np.array(y1), validation_data=([np.array(x4),np.array(x5)], np.array(y6)),epochs=20, verbose=1,batch_size=256)  \n",
    "    scores = model2.evaluate([np.array(x4),np.array(x5)], np.array(y6), verbose=0)\n",
    "    print(f'Score for fold : {model2.metrics_names[0]} of {scores[0]}; {model2.metrics_names[1]} of {scores[1]*100}%')\n",
    "    acc_per_fold.append(scores[1] * 100)\n",
    "    loss_per_fold.append(scores[0])\n",
    "    "
   ]
  },
  {
   "cell_type": "code",
   "execution_count": 8,
   "metadata": {},
   "outputs": [],
   "source": [
    "def _load_data(data, steps = 40):  \n",
    "    docX, docY = [], []\n",
    "    for i in range(0, int(data.shape[0]/steps-1)):\n",
    "        docX.append(data[i*steps:(i+1)*steps,:])\n",
    "    return np.array(docX) #np.array(docY)"
   ]
  },
  {
   "cell_type": "code",
   "execution_count": null,
   "metadata": {},
   "outputs": [],
   "source": [
    "#5 fold cross validation cnn concate\n",
    "import numpy as np\n",
    "from sklearn.model_selection import KFold\n",
    "kf = KFold(n_splits=5,shuffle=True)\n",
    "acc_per_fold=[]\n",
    "loss_per_fold=[]\n",
    "for train_index, test_index in kf.split(np.array(x1)):\n",
    "    X_train, X_test = [np.array(x1)[train_index], np.array(x2)[train_index]],[np.array(x1)[test_index],np.array(x2)[test_index]]\n",
    "    y_train, y_test = np.array(y1)[train_index], np.array(y1)[test_index]\n",
    "    history = model2.fit([X_train[0],X_train[1]], y_train, validation_data=([X_test[0],X_test[1]], y_test),epochs=15, verbose=1,batch_size=256)  \n",
    "    scores = model2.evaluate([X_test[0],X_test[1]], y_test, verbose=0)\n",
    "    print(f'Score for fold : {model2.metrics_names[0]} of {scores[0]}; {model2.metrics_names[1]} of {scores[1]*100}%')   \n",
    "    acc_per_fold.append(scores[1] * 100)\n",
    "    loss_per_fold.append(scores[0])"
   ]
  },
  {
   "cell_type": "code",
   "execution_count": null,
   "metadata": {},
   "outputs": [],
   "source": [
    "#5 fold cross validation cnn-lstm concate\n",
    "from sklearn.model_selection import KFold\n",
    "kf = KFold(n_splits=5, random_state=None, shuffle=True)\n",
    "acc_per_fold=[]\n",
    "loss_per_fold=[]\n",
    "matrix=[]\n",
    "for train_index,test_index in kf.split(np.array(eeg)):\n",
    "    print(train_index,test_index)\n",
    "    emotion_list=[\"Q1\",\"Q2\",\"Q3\",\"Q4\",\"Neutral\"]\n",
    "    x1=np.concatenate([eeg[i] for i in train_index])  \n",
    "    x2=np.concatenate([face[i] for i in train_index])\n",
    "    y1=np.concatenate([quad_out[i] for i in train_index])\n",
    "    x4=np.concatenate([eeg1[i] for i in test_index])\n",
    "    x5=np.concatenate([face1[i] for i in test_index])\n",
    "    y6=np.concatenate([quad_out1[i] for i in test_index])\n",
    "    xx1=_load_data(np.array(x1))\n",
    "    xx2=_load_data(np.array(x2))\n",
    "    yy1=_load_data(np.array(y1))\n",
    "    xx4=_load_data(np.array(x4))\n",
    "    xx5=_load_data(np.array(x5))\n",
    "    yy6=_load_data(np.array(y6))\n",
    "    history = model_dope.fit([np.array(xx1),np.array(xx2)], np.array(yy1), validation_data=([np.array(xx4),np.array(xx5)], np.array(yy6)),epochs=10, verbose=1,steps_per_epoch=10)  \n",
    "    scores = model_dope.evaluate([np.array(xx4),np.array(xx5)], np.array(yy6), verbose=0)          \n",
    "    print(f'Score for fold : {model_dope.metrics_names[0]} of {scores[0]}; {model_dope.metrics_names[1]} of {scores[1]*100}%')\n",
    "    acc_per_fold.append(scores[1] * 100)\n",
    "    loss_per_fold.append(scores[0])"
   ]
  }
 ],
 "metadata": {
  "kernelspec": {
   "display_name": "“final”",
   "language": "python",
   "name": "final"
  },
  "language_info": {
   "codemirror_mode": {
    "name": "ipython",
    "version": 3
   },
   "file_extension": ".py",
   "mimetype": "text/x-python",
   "name": "python",
   "nbconvert_exporter": "python",
   "pygments_lexer": "ipython3",
   "version": "3.7.9"
  }
 },
 "nbformat": 4,
 "nbformat_minor": 4
}
